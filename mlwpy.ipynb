{
 "cells": [
  {
   "cell_type": "code",
   "execution_count": 1,
   "metadata": {},
   "outputs": [],
   "source": [
    "# common import abbreviations\n",
    "import numpy as np\n",
    "import matplotlib.pyplot as plt\n",
    "import matplotlib as mpl\n",
    "import seaborn as sns\n",
    "import pandas as pd\n",
    "import patsy"
   ]
  },
  {
   "cell_type": "code",
   "execution_count": 2,
   "metadata": {},
   "outputs": [],
   "source": [
    "import itertools as it\n",
    "import collections as co\n",
    "import functools as ft\n",
    "import os.path as osp"
   ]
  },
  {
   "cell_type": "code",
   "execution_count": 3,
   "metadata": {},
   "outputs": [],
   "source": [
    "import glob\n",
    "import textwrap"
   ]
  },
  {
   "cell_type": "code",
   "execution_count": 4,
   "metadata": {},
   "outputs": [],
   "source": [
    "import warnings\n",
    "warnings.filterwarnings(\"ignore\")\n",
    "# some warnings are stubborn in the extreme, \n",
    "# we don't want them in the book\n",
    "def warn(*args, **kwargs): pass\n",
    "warnings.warn = warn"
   ]
  },
  {
   "cell_type": "code",
   "execution_count": 5,
   "metadata": {},
   "outputs": [],
   "source": [
    "# config related\n",
    "np.set_printoptions(precision=4,\n",
    "                    suppress=True)\n",
    "pd.options.display.float_format = '{:20,.4f}'.format"
   ]
  },
  {
   "cell_type": "code",
   "execution_count": 6,
   "metadata": {},
   "outputs": [],
   "source": [
    "# do *NOT* to do this in any real production code\n",
    "# for our purposes (reproducible output) this *is* what we want\n",
    "np.random.seed(42)"
   ]
  },
  {
   "cell_type": "code",
   "execution_count": 7,
   "metadata": {},
   "outputs": [],
   "source": [
    "# default is [6.4, 4.8] (4:3)\n",
    "mpl.rcParams['figure.figsize'] = [4.0, 3.0]"
   ]
  },
  {
   "cell_type": "code",
   "execution_count": 8,
   "metadata": {},
   "outputs": [],
   "source": [
    "# turn on latex tables\n",
    "pd.set_option('display.latex.repr', True)\n",
    "# monkey-patch for centering Out[] DataFrames\n",
    "def _repr_latex_(self):\n",
    "    return \"{\\centering\\n%s\\n\\medskip}\" % self.to_latex()\n",
    "pd.DataFrame._repr_latex = _repr_latex_"
   ]
  },
  {
   "cell_type": "code",
   "execution_count": 9,
   "metadata": {},
   "outputs": [],
   "source": [
    "# only used once\n",
    "markers = it.cycle(['+', '^', 'o', '_', '*', 'd', 'x', 's'])"
   ]
  },
  {
   "cell_type": "code",
   "execution_count": 10,
   "metadata": {},
   "outputs": [],
   "source": [
    "# handy helper for displaying stuff\n",
    "from IPython.display import Image"
   ]
  },
  {
   "cell_type": "code",
   "execution_count": 11,
   "metadata": {},
   "outputs": [],
   "source": [
    "#\n",
    "# sklearn's packing is very java-esque\n",
    "#\n",
    "from sklearn import (cluster,\n",
    "                     datasets,\n",
    "                     decomposition,\n",
    "                     discriminant_analysis,\n",
    "                     dummy,\n",
    "                     ensemble,\n",
    "                     feature_selection as ftr_sel,\n",
    "                     linear_model,\n",
    "                     metrics,\n",
    "                     model_selection as skms,\n",
    "                     multiclass as skmulti,\n",
    "                     naive_bayes,\n",
    "                     neighbors,\n",
    "                     pipeline,\n",
    "                     preprocessing as skpre,\n",
    "                     svm,\n",
    "                     tree\n",
    "                    )"
   ]
  },
  {
   "cell_type": "code",
   "execution_count": 12,
   "metadata": {},
   "outputs": [],
   "source": [
    "def high_school_style(ax):\n",
    "    'helper to define an axis to look like a typical school plot '\n",
    "    ax.spines['left'].set_position(('data', 0.0))\n",
    "    ax.spines['bottom'].set_position(('data', 0.0))\n",
    "    ax.spines['right'].set_visible(False)\n",
    "    ax.spines['top'].set_visible(False)\n",
    "    \n",
    "    def make_ticks(lims):\n",
    "        lwr, upr = sorted(lims) # x/y lims can be invered in mpl\n",
    "        lwr = np.round(lwr).astype('int') # can return to np objs\n",
    "        upr = np.round(upr).astype('int')\n",
    "        \n",
    "        if lwr * upr < 0:\n",
    "            return list(range(lwr, 0)) + list(range(1, upr+1))\n",
    "        else:\n",
    "            return list(range(lwr, upr+1))\n",
    "        \n",
    "    import matplotlib.ticker as ticker\n",
    "    xticks = make_ticks(ax.get_xlim())\n",
    "    yticks = make_ticks(ax.get_ylim())\n",
    "    \n",
    "    ax.xaxis.set_major_locator(ticker.FixedLocator(xticks))\n",
    "    ax.yaxis.set_major_locator(ticker.FixedLocator(yticks))\n",
    "    \n",
    "    ax.set_aspect('equal')\n"
   ]
  }
 ],
 "metadata": {
  "kernelspec": {
   "display_name": "Python 3",
   "language": "python",
   "name": "python3"
  },
  "language_info": {
   "codemirror_mode": {
    "name": "ipython",
    "version": 3
   },
   "file_extension": ".py",
   "mimetype": "text/x-python",
   "name": "python",
   "nbconvert_exporter": "python",
   "pygments_lexer": "ipython3",
   "version": "3.9.2"
  }
 },
 "nbformat": 4,
 "nbformat_minor": 4
}
